{
 "cells": [
  {
   "cell_type": "code",
   "execution_count": 15,
   "id": "50623c10",
   "metadata": {
    "scrolled": true
   },
   "outputs": [
    {
     "name": "stdout",
     "output_type": "stream",
     "text": [
      "3.7530864197530867\n",
      "0.01234567901234568\n",
      "1.67375\n"
     ]
    },
    {
     "name": "stderr",
     "output_type": "stream",
     "text": [
      "C:\\Users\\pheng\\AppData\\Local\\Temp\\ipykernel_32300\\3355514720.py:51: UserWarning: cmr10 font should ideally be used with mathtext, set axes.formatter.use_mathtext to True\n",
      "  fig, ax = plt.subplots()\n"
     ]
    },
    {
     "data": {
      "image/png": "[encoded data removed]",
      "text/plain": [
       "<Figure size 500x300 with 1 Axes>"
      ]
     },
     "metadata": {},
     "output_type": "display_data"
    },
    {
     "name": "stdout",
     "output_type": "stream",
     "text": [
      "0.09476607863740477\n"
     ]
    }
   ],
   "source": [
    "import matplotlib.pyplot as plt\n",
    "import numpy as np\n",
    "from scipy.optimize import root_scalar\n",
    "\n",
    "# Inputs\n",
    "x_0 = 0\n",
    "x_N = 0.05\n",
    "y_N1 = 0.20\n",
    "K = 1.90\n",
    "\n",
    "y1 = 0.05*y_N1/(1-0.95*y_N1)\n",
    "b = y1\n",
    "a = (y_N1-y1)/(x_N-x_0)\n",
    "q_min = (K*x_N-y1)/(x_N*(1-y1))\n",
    "#a = q_min\n",
    "#a = (y_N1-y1)/(x_N-x_0)\n",
    "print(a)\n",
    "print(b)\n",
    "print(q_min)\n",
    "\n",
    "x = np.linspace(0,1,5)\n",
    "\n",
    "def op_line(x,a,b): return a*x + b\n",
    "\n",
    "def stepping_x(x_0,x_N,a,b,K):\n",
    "    \n",
    "    x_n = x_0\n",
    "    y_n = op_line(x_0,a,b)\n",
    "    \n",
    "    y_0 = op_line(x_0,K,0)\n",
    "    \n",
    "    x_eq = [x_0,x_0]\n",
    "    y_eq = [y_0,y_n]\n",
    "    \n",
    "    for i in range(50):\n",
    "        sol = root_scalar(lambda x: y_n-op_line(x,K,0),method='secant',x0=x_n)\n",
    "        x_n = sol.root\n",
    "        y_n = op_line(x_n,a,b)\n",
    "        \n",
    "        x_eq = np.hstack((x_eq,[x_n,x_n]))\n",
    "        y_eq = np.hstack((y_eq,[op_line(x_n,K,0),op_line(x_n,a,b)]))\n",
    "        \n",
    "        if x_n > x_N:\n",
    "            break\n",
    "    \n",
    "    return x_eq, y_eq\n",
    "\n",
    "x_eq, y_eq = stepping_x(x_0,x_N,a,b,K)\n",
    "\n",
    "# Plot results\n",
    "fig, ax = plt.subplots()\n",
    "plt.rcParams[\"figure.figsize\"] = (5,3)\n",
    "plt.rc('text', usetex=True)\n",
    "\n",
    "\n",
    "font = {'family' : 'serif',\n",
    "         'size'   : 12,\n",
    "         'serif':  'cmr10'\n",
    "         }\n",
    "\n",
    "plt.rc('font', **font)\n",
    "\n",
    "\n",
    "plt.plot(x,op_line(x,a,b),label='Op. Line')\n",
    "plt.plot(x,op_line(x,K,0),label='Eq. Line')\n",
    "plt.plot([x_N,x_N],[0,op_line(x_N,a,b)],color='r',linestyle='--',marker='*',label='Bottoms')\n",
    "\n",
    "plt.plot(x_eq[0:-1],y_eq[0:-1],color=[0,0,0])\n",
    "plt.plot([x_eq[0],x_eq[0]],[0,y_eq[0]],color=[0,0,0],linestyle='--',marker='*')\n",
    "plt.plot([x_eq[-1],x_eq[-1]],[0,y_eq[-2]],color=[0,0,0],linestyle='--',marker='*')\n",
    "\n",
    "\n",
    "\n",
    "plt.legend(loc='best')\n",
    "plt.xlabel('$x$',fontfamily='Serif')\n",
    "plt.ylabel('$y$',fontfamily='Serif')\n",
    "plt.xlim([0,0.1])\n",
    "plt.ylim([0,0.22])\n",
    "plt.grid('on')\n",
    "plt.tick_params(top='true',right='true',direction='in')\n",
    "\n",
    "plt.show()\n",
    "\n",
    "print(x_eq[-1])\n",
    "\n",
    "fig.savefig('CHEN_3100_HW_2.png',dpi=600,bbox_inches='tight')\n",
    "#fig.savefig('CHEN_3100_HW_2_2_1.png',dpi=600,bbox_inches='tight')"
   ]
  },
  {
   "cell_type": "code",
   "execution_count": 6,
   "id": "26f5f9ba",
   "metadata": {},
   "outputs": [
    {
     "name": "stdout",
     "output_type": "stream",
     "text": [
      "380.0\n",
      "2.165954298846436\n",
      "2.8689226863837027\n"
     ]
    }
   ],
   "source": [
    "VN1 = 100\n",
    "LN = 0.95*y_N1*VN1/x_N\n",
    "L0 = (1-x_N)*LN\n",
    "V1 = L0 + VN1 - LN\n",
    "\n",
    "A1 = L0/(K*V1)\n",
    "AN = LN/(K*VN1)\n",
    "\n",
    "A = (A1*AN)**0.5\n",
    "\n",
    "def kremser(yn1,y1,x0,K,A): return np.log((yn1-K*x0)/(y1-K*x0)*(1-1/A)+1/A)/np.log(A)\n",
    "\n",
    "N = kremser(y_N1,y1,x_0,K,A)\n",
    "\n",
    "print(LN)\n",
    "print(A)\n",
    "print(N)"
   ]
  },
  {
   "cell_type": "code",
   "execution_count": null,
   "id": "d7ea90d5",
   "metadata": {},
   "outputs": [],
   "source": []
  }
 ],
 "metadata": {
  "kernelspec": {
   "display_name": "Python 3 (ipykernel)",
   "language": "python",
   "name": "python3"
  },
  "language_info": {
   "codemirror_mode": {
    "name": "ipython",
    "version": 3
   },
   "file_extension": ".py",
   "mimetype": "text/x-python",
   "name": "python",
   "nbconvert_exporter": "python",
   "pygments_lexer": "ipython3",
   "version": "3.11.5"
  }
 },
 "nbformat": 4,
 "nbformat_minor": 5
}
