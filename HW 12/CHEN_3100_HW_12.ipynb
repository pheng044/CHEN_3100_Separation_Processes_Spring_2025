{
 "cells": [
  {
   "cell_type": "code",
   "execution_count": 16,
   "id": "2ad865b2",
   "metadata": {},
   "outputs": [
    {
     "name": "stdout",
     "output_type": "stream",
     "text": [
      "D_AB = 0.000\n",
      "rho = 54.425\n",
      "P = 101325.000\n",
      "yB0 = 0.138\n",
      "D = 4.572\n",
      "L = 0.01270\n",
      "T = 298.150\n",
      "m_dot = 0.004909\n",
      "m_dot = 935.139\n",
      "p_sat = 12.688\n",
      "m_dot = 0.004252\n",
      "m_dot = 809.880\n",
      "0.12522127747046816\n",
      "0.1546648921034086\n"
     ]
    }
   ],
   "source": [
    "import numpy as np\n",
    "\n",
    "DAB = 0.08*10**-4 # m^2/s\n",
    "rho = 0.875*62.2 # lb_m/ft^3\n",
    "P = 101325 # Pa\n",
    "yB0 = 105/760 \n",
    "D = 15*0.3048 # m\n",
    "L = (0.5/12)*0.3048 # m\n",
    "T = 25 + 273.15 # K\n",
    "R = 8.314 # Pa-m^3/mol-K\n",
    "MB = 0.07811 # kg/mol\n",
    "\n",
    "p_sat = np.exp(13.7819-2726.81/(217.572+T-273.15)) # kPa\n",
    "DAB_new = 0.077*10**-4 # m^2/s\n",
    "yB0_new = 1000*p_sat/P\n",
    "\n",
    "print('D_AB = %0.3f' % DAB)\n",
    "print('rho = %0.3f' % rho)\n",
    "print('P = %0.3f' % P)\n",
    "print('yB0 = %0.3f' % yB0)\n",
    "print('D = %0.3f' % D)\n",
    "print('L = %0.5f' % L)\n",
    "print('T = %0.3f' % T)\n",
    "\n",
    "m_dot = -(np.pi*D**2/(4*L))*(P*MB*DAB/(R*T))*np.log(1-yB0) # kg/s\n",
    "\n",
    "print('m_dot = %0.6f' % m_dot)\n",
    "\n",
    "m_dot = m_dot*2.20462*3600*24\n",
    "\n",
    "print('m_dot = %0.3f' % m_dot)\n",
    "\n",
    "print('p_sat = %0.3f' % p_sat)\n",
    "\n",
    "m_dot_new = -(np.pi*D**2/(4*L))*(P*MB*DAB_new/(R*T))*np.log(1-yB0_new) # kg/s\n",
    "\n",
    "print('m_dot = %0.6f' % m_dot_new)\n",
    "\n",
    "m_dot_new = m_dot_new*2.20462*3600*24\n",
    "\n",
    "print('m_dot = %0.3f' % m_dot_new)\n",
    "print(yB0_new)\n",
    "\n",
    "print((m_dot-m_dot_new)/m_dot_new)"
   ]
  },
  {
   "cell_type": "code",
   "execution_count": 49,
   "id": "6c4247af",
   "metadata": {},
   "outputs": [
    {
     "name": "stdout",
     "output_type": "stream",
     "text": [
      "D_AB = 0.00007\n",
      "P = 101325.00000\n",
      "D = 0.02664\n",
      "L = 1.00000\n",
      "N_A = 0.00199\n",
      "t (s) = 18054017.789\n",
      "t (days) = 208.959\n"
     ]
    }
   ],
   "source": [
    "DAB = 0.694*10**-4 # m^2/s\n",
    "P = 101325 # Pa\n",
    "yA0 = 0.8\n",
    "yAL = 0.1\n",
    "D = (1.049/12)*0.3048 # m\n",
    "L = 1 # m\n",
    "T = 298 # K\n",
    "R = 8.314 # Pa-m^3/mol-K\n",
    "\n",
    "A = (np.pi/4)*D**2\n",
    "\n",
    "N_A = (yA0-yAL)*P*DAB/(R*T*L)\n",
    "\n",
    "\n",
    "print('D_AB = %0.5f' % DAB)\n",
    "print('P = %0.5f' % P)\n",
    "print('D = %0.5f' % D)\n",
    "print('L = %0.5f' % L)\n",
    "\n",
    "print('N_A = %0.5f' % N_A)\n",
    "\n",
    "n_A = 20 # mol\n",
    "\n",
    "dt = n_A/(A*N_A)\n",
    "\n",
    "print('t (s) = %0.3f' % dt)\n",
    "\n",
    "dt = dt/(3600*24)\n",
    "\n",
    "print('t (days) = %0.3f' % dt)\n"
   ]
  },
  {
   "cell_type": "code",
   "execution_count": 80,
   "id": "e46230cc",
   "metadata": {},
   "outputs": [
    {
     "name": "stdout",
     "output_type": "stream",
     "text": [
      "t (s) = 17766296581.593\n",
      "t (years) = 562.980\n"
     ]
    },
    {
     "name": "stderr",
     "output_type": "stream",
     "text": [
      "C:\\Users\\pheng\\AppData\\Local\\Temp\\ipykernel_31512\\212704647.py:43: UserWarning: cmr10 font should ideally be used with mathtext, set axes.formatter.use_mathtext to True\n",
      "  fig, ax = plt.subplots()\n"
     ]
    },
    {
     "data": {
      "image/png": "[encoded data removed]",
      "text/plain": [
       "<Figure size 500x300 with 1 Axes>"
      ]
     },
     "metadata": {},
     "output_type": "display_data"
    }
   ],
   "source": [
    "from scipy import special\n",
    "from scipy import integrate\n",
    "from scipy.optimize import root_scalar\n",
    "import matplotlib.pyplot as plt\n",
    "\n",
    "dc = P*(yA0-yAL)/(R*T)\n",
    "\n",
    "q_func = lambda t: np.exp(-L**2/(4*DAB*t))/np.sqrt(t)\n",
    "\n",
    "def func(t):\n",
    "    f = - n_A\n",
    "    res = integrate.quad(q_func,0,t)\n",
    "    f += A*dc*np.sqrt(DAB/np.pi)*res[0]\n",
    "    return f\n",
    "\n",
    "sol = root_scalar(func,x0=18054017)\n",
    "\n",
    "dt = sol.root\n",
    "\n",
    "print('t (s) = %0.3f' % dt)\n",
    "\n",
    "dt = dt/(3600*24*365.25)\n",
    "\n",
    "print('t (years) = %0.3f' % dt)\n",
    "\n",
    "\n",
    "t = np.linspace(1e-15,17896658213.245,1000)\n",
    "flux = np.zeros(np.size(t))\n",
    "for i in range(np.size(t)):\n",
    "    flux[i] = func(t[i]) + n_A\n",
    "\n",
    "\n",
    "font = {'family' : 'serif',\n",
    "         'size'   : 12,\n",
    "         'serif':  'cmr10'\n",
    "         }\n",
    "plt.rcParams[\"figure.figsize\"] = (5,3)\n",
    "plt.rcParams.update({\n",
    "    \"text.usetex\": True,\n",
    "    \"font.family\": \"serif\",\n",
    "    \"font.serif\": \"cmr10\",\n",
    "})\n",
    "fig, ax = plt.subplots()\n",
    "plt.plot(t/(3600*24*365.25),flux,color='b')\n",
    "plt.xlabel('$t$ (years)')\n",
    "plt.ylabel('$n_A$ (mol)')\n",
    "plt.axis('tight')\n",
    "plt.grid()\n",
    "plt.show()\n",
    "\n",
    "fig.savefig('CHEN_3100_HW_12_1.png',dpi=300,bbox_inches='tight')"
   ]
  },
  {
   "cell_type": "code",
   "execution_count": 76,
   "id": "2111d78c",
   "metadata": {},
   "outputs": [
    {
     "name": "stdout",
     "output_type": "stream",
     "text": [
      "18054017.7886295\n"
     ]
    }
   ],
   "source": [
    "from scipy import special\n",
    "from scipy import integrate\n",
    "from scipy.optimize import root_scalar\n",
    "import matplotlib.pyplot as plt\n",
    "\n",
    "dc = P*(yA0-yAL)/(R*T)\n",
    "\n",
    "\n",
    "def f(t,N=20):\n",
    "    f = A*DAB*(dc/L)*t\n",
    "    for n in range(1,N):\n",
    "        eig = (n*np.pi/L)**2\n",
    "        f -= A*DAB*(dc/L)*2*np.exp(-eig*DAB*t)*(1-np.cos(n*np.pi))*np.cos(n*np.pi)/(eig*DAB)\n",
    "    return f\n",
    "obj_func = lambda t: f(t) - n_A\n",
    "\n",
    "res = root_scalar(obj_func,x0=1e6)\n",
    "\n",
    "t = res.root\n",
    "\n",
    "print(t)\n",
    "    "
   ]
  },
  {
   "cell_type": "code",
   "execution_count": null,
   "id": "733899a2",
   "metadata": {},
   "outputs": [],
   "source": []
  }
 ],
 "metadata": {
  "kernelspec": {
   "display_name": "Python [conda env:base] *",
   "language": "python",
   "name": "conda-base-py"
  },
  "language_info": {
   "codemirror_mode": {
    "name": "ipython",
    "version": 3
   },
   "file_extension": ".py",
   "mimetype": "text/x-python",
   "name": "python",
   "nbconvert_exporter": "python",
   "pygments_lexer": "ipython3",
   "version": "3.11.5"
  }
 },
 "nbformat": 4,
 "nbformat_minor": 5
}
