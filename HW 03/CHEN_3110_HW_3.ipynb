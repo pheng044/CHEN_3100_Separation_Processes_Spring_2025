{
 "cells": [
  {
   "cell_type": "code",
   "execution_count": 30,
   "id": "2d868500",
   "metadata": {},
   "outputs": [
    {
     "name": "stdout",
     "output_type": "stream",
     "text": [
      "P1 = 221.96\n",
      "P2 = 65.68\n",
      "Pdew = 83.27\n",
      "Pbub = 112.57\n",
      "x1 = 0.228\n",
      "x2 = 0.772\n",
      "y1 = 0.500\n",
      "y2 = 0.500\n",
      "V/F = 0.265\n",
      "L/F = 0.735\n"
     ]
    }
   ],
   "source": [
    "import numpy as np\n",
    "from scipy.optimize import root_scalar\n",
    "\n",
    "def psat(A,B,C,T): return np.exp(A-B/(T+C))\n",
    "\n",
    "T = 96\n",
    "P = 101.325\n",
    "z1 = 0.30\n",
    "z2 = 1 - z1\n",
    "\n",
    "# Hexane psat\n",
    "p1 = psat(13.8193,2696.04,224.317,T)\n",
    "\n",
    "# Toluene psat\n",
    "p2 = psat(13.9320,3056.96,217.625,T)\n",
    "\n",
    "x1 = (P-p2)/(p1-p2)\n",
    "x2 = 1 - x1\n",
    "\n",
    "y1 = x1*p1/P\n",
    "y2 = 1 - y1\n",
    "\n",
    "# Dew point\n",
    "p_dew = 1/((z1/p1) + (z2/p2))\n",
    "\n",
    "# Bubble point\n",
    "p_bub = z1*p1 + z2*p2\n",
    "\n",
    "# L/F\n",
    "VF = (z1-x1)/(y1-x1)\n",
    "\n",
    "LF = 1 - VF\n",
    "\n",
    "print('P1 = %0.2f' % p1)\n",
    "print('P2 = %0.2f' % p2)\n",
    "print('Pdew = %0.2f' % p_dew)\n",
    "print('Pbub = %0.2f' % p_bub)\n",
    "print('x1 = %0.3f' % x1)\n",
    "print('x2 = %0.3f' % x2)\n",
    "print('y1 = %0.3f' % y1)\n",
    "print('y2 = %0.3f' % y2)\n",
    "print('V/F = %0.3f' % VF)\n",
    "print('L/F = %0.3f' % LF)\n",
    "\n",
    "\n"
   ]
  },
  {
   "cell_type": "code",
   "execution_count": 73,
   "id": "50623c10",
   "metadata": {},
   "outputs": [
    {
     "name": "stdout",
     "output_type": "stream",
     "text": [
      "2.1015565117743935\n",
      "0.012855831037649207\n",
      "93.98452477416876\n"
     ]
    },
    {
     "name": "stderr",
     "output_type": "stream",
     "text": [
      "C:\\Users\\pheng\\AppData\\Local\\Temp\\ipykernel_33084\\196852061.py:66: UserWarning: cmr10 font should ideally be used with mathtext, set axes.formatter.use_mathtext to True\n",
      "  fig, ax = plt.subplots()\n"
     ]
    },
    {
     "data": {
      "image/png": "[encoded data removed]",
      "text/plain": [
       "<Figure size 500x300 with 1 Axes>"
      ]
     },
     "metadata": {},
     "output_type": "display_data"
    }
   ],
   "source": [
    "import matplotlib.pyplot as plt\n",
    "import numpy as np\n",
    "from scipy.optimize import root_scalar\n",
    "\n",
    "# Inputs\n",
    "x_0 = 0\n",
    "x_N = 0.0605\n",
    "y_N1 = 0.14\n",
    "q = 0.92*y_N1\n",
    "K = 1.20\n",
    "\n",
    "\n",
    "y1 = (y_N1-q)/(1-q)\n",
    "b = y1\n",
    "a = (y_N1-y1)/(x_N-x_0)\n",
    "#a = (K*x_N-y1)/(x_N-x_0)\n",
    "LV_min = (K*x_N-y1)/(x_N*(1-y1))\n",
    "L_min = (1-x_N)*LV_min*100\n",
    "\n",
    "print(a)\n",
    "print(b)\n",
    "print(L_min)\n",
    "\n",
    "x = np.linspace(0,1,5)\n",
    "\n",
    "# Linear line, slope a, intercept b\n",
    "def op_line(x,a,b): return a*x + b\n",
    "\n",
    "# Stepping function to return step coordinates for graphing\n",
    "def stepping_x(x_0,x_N,a,b,K):\n",
    "    \n",
    "    # Start at inlet comp\n",
    "    x_n = x_0\n",
    "    y_0 = op_line(x_0,K,0)\n",
    "    \n",
    "    # Resulting vapor equilibrium\n",
    "    y_n = op_line(x_0,a,b)\n",
    "    \n",
    "    x_eq = [x_0,x_0]\n",
    "    y_eq = [y_0,y_n]\n",
    "    \n",
    "    # Max 50 iterations\n",
    "    for i in range(50):\n",
    "        \n",
    "        # Solve for next x value\n",
    "        sol = root_scalar(lambda x: y_n-op_line(x,K,0),method='secant',x0=x_n)\n",
    "        x_n = sol.root\n",
    "        \n",
    "        # Resulting vapor equilibrium\n",
    "        y_n = op_line(x_n,a,b)\n",
    "        \n",
    "        # Add step coordinates\n",
    "        x_eq = np.hstack((x_eq,[x_n,x_n]))\n",
    "        y_eq = np.hstack((y_eq,[op_line(x_n,K,0),y_n]))\n",
    "        \n",
    "        if x_n > x_N:\n",
    "            break\n",
    "    \n",
    "    return x_eq, y_eq\n",
    "\n",
    "\n",
    "\n",
    "x_eq, y_eq = stepping_x(x_0,x_N,a,b,K)\n",
    "\n",
    "# Plot results\n",
    "fig, ax = plt.subplots()\n",
    "plt.rcParams[\"figure.figsize\"] = (5,3)\n",
    "\n",
    "font = {'family' : 'serif',\n",
    "         'size'   : 12,\n",
    "         'serif':  'cmr10'\n",
    "         }\n",
    "plt.rc('text', usetex=True)\n",
    "plt.rc('font', **font)\n",
    "\n",
    "\n",
    "# Plot operating line\n",
    "plt.plot(x,op_line(x,a,b),label='Op. Line')\n",
    "# PLot equilibrium line\n",
    "plt.plot(x,op_line(x,K,0),label='Eq. Line')\n",
    "# Plot desired bottom composition\n",
    "plt.plot([x_N,x_N],[0,op_line(x_N,a,b)],color='r',linestyle='--',marker='*',label='Bottoms')\n",
    "\n",
    "# Plot steps\n",
    "plt.plot(x_eq[0:-1],y_eq[0:-1],color=[0,0,0])\n",
    "plt.plot([x_eq[0],x_eq[0]],[0,y_eq[0]],color=[0,0,0],linestyle='--',marker='*')\n",
    "plt.plot([x_eq[-1],x_eq[-1]],[0,y_eq[-2]],color=[0,0,0],linestyle='--',marker='*')\n",
    "\n",
    "\n",
    "\n",
    "plt.legend(loc='best')\n",
    "plt.xlabel('$x$',fontfamily='Serif')\n",
    "plt.ylabel('$y$',fontfamily='Serif')\n",
    "\n",
    "# Plot limits\n",
    "plt.xlim([0,0.07])\n",
    "plt.ylim([0,0.14])\n",
    "\n",
    "plt.grid('on')\n",
    "plt.tick_params(top='true',right='true',direction='in')\n",
    "plt.show()\n",
    "\n",
    "\n",
    "fig.savefig('CHEN_3100_HW_3_2_1.png',dpi=600,bbox_inches='tight')\n",
    "#fig.savefig('CHEN_3100_HW_3_2_2.png',dpi=600,bbox_inches='tight')"
   ]
  },
  {
   "cell_type": "code",
   "execution_count": 63,
   "id": "e595cd81",
   "metadata": {},
   "outputs": [
    {
     "name": "stdout",
     "output_type": "stream",
     "text": [
      "212.89256198347113\n",
      "1.8423354175180748\n",
      "2.796417723398948\n"
     ]
    }
   ],
   "source": [
    "VN1 = 100\n",
    "LN = 0.92*y_N1*VN1/x_N\n",
    "L0 = (1-x_N)*LN\n",
    "V1 = L0 + VN1 - LN\n",
    "\n",
    "A1 = L0/(K*V1)\n",
    "AN = LN/(K*VN1)\n",
    "\n",
    "A = (A1*AN)**0.5\n",
    "\n",
    "def kremser(yn1,y1,x0,K,A): return np.log((yn1-K*x0)/(y1-K*x0)*(1-1/A)+1/A)/np.log(A)\n",
    "\n",
    "N = kremser(y_N1,y1,x_0,K,A)\n",
    "\n",
    "print(LN)\n",
    "print(A)\n",
    "print(N)"
   ]
  },
  {
   "cell_type": "code",
   "execution_count": 75,
   "id": "26f5f9ba",
   "metadata": {},
   "outputs": [
    {
     "name": "stdout",
     "output_type": "stream",
     "text": [
      "0.9411764705882354\n",
      "2.0746590093323762\n",
      "0.018198133524766694\n",
      "0.06352941176470588\n",
      "0.028571428571428574\n",
      "120.35986159169552\n"
     ]
    },
    {
     "name": "stderr",
     "output_type": "stream",
     "text": [
      "C:\\Users\\pheng\\AppData\\Local\\Temp\\ipykernel_33084\\2541252998.py:32: UserWarning: cmr10 font should ideally be used with mathtext, set axes.formatter.use_mathtext to True\n",
      "  fig, ax = plt.subplots()\n"
     ]
    },
    {
     "data": {
      "image/png": "[encoded data removed]",
      "text/plain": [
       "<Figure size 500x300 with 1 Axes>"
      ]
     },
     "metadata": {},
     "output_type": "display_data"
    }
   ],
   "source": [
    "# Inputs\n",
    "x_0 = 0.005\n",
    "y_N1 = 0.15\n",
    "LN = (1-x_0)*200 + 0.90*y_N1*100\n",
    "LV = LN/100\n",
    "x_N = 0.90*y_N1*100/LN\n",
    "K = 1.60\n",
    "\n",
    "p = (1-x_N)/(1-x_0)\n",
    "\n",
    "y1 = (y_N1+(p*x_0-x_N)*LV)/(1+(p-1)*LV)\n",
    "a2 = (K*x_N-y1)/(x_N-p*x_0+y1*(p-1))  \n",
    "a = (y_N1-y1)/(x_N-x_0)\n",
    "b = (y1-a*x_0)\n",
    "\n",
    "LV_min = (K*x_N-y1)/(x_N-p*x_0+y1*(p-1))\n",
    "L_min = p*LV_min*100\n",
    "\n",
    "print(p)\n",
    "print(a)\n",
    "print(b)\n",
    "print(x_N)\n",
    "print(y1)\n",
    "print(L_min)\n",
    "\n",
    "\n",
    "x = np.linspace(0,1,5)\n",
    "\n",
    "x_eq, y_eq = stepping_x(x_0,x_N,a,b,K)\n",
    "\n",
    "# Plot results\n",
    "fig, ax = plt.subplots()\n",
    "plt.rcParams[\"figure.figsize\"] = (5,3)\n",
    "\n",
    "font = {'family' : 'serif',\n",
    "         'size'   : 12,\n",
    "         'serif':  'cmr10'\n",
    "         }\n",
    "plt.rc('text', usetex=True)\n",
    "plt.rc('font', **font)\n",
    "\n",
    "\n",
    "# Plot operating line\n",
    "plt.plot(x,op_line(x,a,b),label='Op. Line')\n",
    "# PLot equilibrium line\n",
    "plt.plot(x,op_line(x,K,0),label='Eq. Line')\n",
    "# Plot desired bottom composition\n",
    "plt.plot([x_N,x_N],[0,op_line(x_N,a,b)],color='r',linestyle='--',marker='*',label='Bottoms')\n",
    "\n",
    "# Plot steps\n",
    "plt.plot(x_eq[0:-1],y_eq[0:-1],color=[0,0,0])\n",
    "plt.plot([x_eq[0],x_eq[0]],[0,y_eq[0]],color=[0,0,0],linestyle='--',marker='*')\n",
    "plt.plot([x_eq[-1],x_eq[-1]],[0,y_eq[-2]],color=[0,0,0],linestyle='--',marker='*')\n",
    "\n",
    "\n",
    "\n",
    "plt.legend(loc='best')\n",
    "plt.xlabel('$x$',fontfamily='Serif')\n",
    "plt.ylabel('$y$',fontfamily='Serif')\n",
    "\n",
    "# Plot limits\n",
    "plt.xlim([0,0.1])\n",
    "plt.ylim([0,0.15])\n",
    "\n",
    "plt.grid('on')\n",
    "plt.tick_params(top='true',right='true',direction='in')\n",
    "plt.show()\n",
    "\n",
    "\n",
    "fig.savefig('CHEN_3100_HW_3_3_1.png',dpi=600,bbox_inches='tight')\n",
    "#fig.savefig('CHEN_3100_HW_3_3_2.png',dpi=600,bbox_inches='tight')"
   ]
  },
  {
   "cell_type": "code",
   "execution_count": 60,
   "id": "d7ea90d5",
   "metadata": {},
   "outputs": [
    {
     "name": "stdout",
     "output_type": "stream",
     "text": [
      "212.5\n",
      "1.3774329125483493\n",
      "3.0047735804587723\n"
     ]
    }
   ],
   "source": [
    "L0 = 200\n",
    "VN1 = 100\n",
    "LN = (1-x_0)*L0 + 0.90*y_N1*VN1\n",
    "V1 = L0 + VN1 - LN\n",
    "\n",
    "A1 = L0/(K*V1)\n",
    "AN = LN/(K*VN1)\n",
    "\n",
    "A = (A1*AN)**0.5\n",
    "\n",
    "def kremser(yn1,y1,x0,K,A): return np.log((yn1-K*x0)/(y1-K*x0)*(1-1/A)+1/A)/np.log(A)\n",
    "\n",
    "N = kremser(y_N1,y1,x_0,K,A)\n",
    "\n",
    "print(LN)\n",
    "print(A)\n",
    "print(N)"
   ]
  },
  {
   "cell_type": "code",
   "execution_count": null,
   "id": "b09d690d",
   "metadata": {},
   "outputs": [],
   "source": []
  }
 ],
 "metadata": {
  "kernelspec": {
   "display_name": "Python 3 (ipykernel)",
   "language": "python",
   "name": "python3"
  },
  "language_info": {
   "codemirror_mode": {
    "name": "ipython",
    "version": 3
   },
   "file_extension": ".py",
   "mimetype": "text/x-python",
   "name": "python",
   "nbconvert_exporter": "python",
   "pygments_lexer": "ipython3",
   "version": "3.11.5"
  }
 },
 "nbformat": 4,
 "nbformat_minor": 5
}
