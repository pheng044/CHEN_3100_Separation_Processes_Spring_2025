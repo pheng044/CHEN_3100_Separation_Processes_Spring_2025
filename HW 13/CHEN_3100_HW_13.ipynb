{
 "cells": [
  {
   "cell_type": "code",
   "execution_count": 63,
   "id": "523746e3",
   "metadata": {},
   "outputs": [
    {
     "name": "stdout",
     "output_type": "stream",
     "text": [
      "0.0019294865756571361\n",
      "51887.85448566079\n",
      "31458.44449098838\n"
     ]
    },
    {
     "name": "stderr",
     "output_type": "stream",
     "text": [
      "C:\\Users\\pheng\\AppData\\Local\\Temp\\ipykernel_22508\\4123954105.py:88: UserWarning: cmr10 font should ideally be used with mathtext, set axes.formatter.use_mathtext to True\n",
      "  plt.hist(tau_rand,bins,density=True)\n"
     ]
    },
    {
     "data": {
      "image/png": "[encoded data removed]",
      "text/plain": [
       "<Figure size 500x300 with 1 Axes>"
      ]
     },
     "metadata": {},
     "output_type": "display_data"
    },
    {
     "name": "stderr",
     "output_type": "stream",
     "text": [
      "C:\\Users\\pheng\\AppData\\Local\\Temp\\ipykernel_22508\\4123954105.py:110: UserWarning: cmr10 font should ideally be used with mathtext, set axes.formatter.use_mathtext to True\n",
      "  fig, ax = plt.subplots()\n"
     ]
    },
    {
     "data": {
      "image/png": "[encoded data removed]",
      "text/plain": [
       "<Figure size 500x300 with 1 Axes>"
      ]
     },
     "metadata": {},
     "output_type": "display_data"
    },
    {
     "name": "stdout",
     "output_type": "stream",
     "text": [
      "40452.4683496891\n",
      "0.0004004700000000001\n"
     ]
    }
   ],
   "source": [
    "import numpy as np\n",
    "import matplotlib.pyplot as plt\n",
    "\n",
    "# Input parameters\n",
    "T = 343.15 # K\n",
    "eps = 0.32\n",
    "tau = 1.8\n",
    "d_p = 0.30*1e-6 # m\n",
    "l = 1.0*1e-6 # m\n",
    "P0 = 500000 # Pa\n",
    "PL = 125000 # Pa\n",
    "mu = (420 + (T-340)*(389-420)/5)*1e-6 # Pa-S\n",
    "rho = 1/1.0225 # kg/m^3\n",
    "\n",
    "Re = rho*d_p**3*(P0-PL)/(32*mu**2*l)\n",
    "print(Re)\n",
    "\n",
    "eps_1 = 1.05*eps\n",
    "tau_1 = 0.95*tau\n",
    "d_p_1 = 1.05*d_p\n",
    "l_1 = 0.95*l\n",
    "\n",
    "eps_2 = 0.95*eps\n",
    "tau_2 = 1.05*tau\n",
    "d_p_2 = 0.95*d_p\n",
    "l_2 = 1.05*l\n",
    "\n",
    "del_p = P0 - PL\n",
    "\n",
    "flux = lambda tau, d_p, eps, l: 24*3600*eps*d_p**2*del_p/(32*mu*tau*l)\n",
    "\n",
    "fxx_1 = flux(tau_1, d_p_1, eps_1, l_1)\n",
    "print(fxx_1)\n",
    "\n",
    "fxx_2 = flux(tau_2, d_p_2, eps_2, l_2)\n",
    "print(fxx_2)\n",
    "\n",
    "fxx = flux(tau, d_p, eps, l)\n",
    "\n",
    "\n",
    "# Uncertainty in data\n",
    "uncert = 0.05\n",
    "# Number of samples to simulate\n",
    "num_samples = 1000000\n",
    "\n",
    "# Standard deviations\n",
    "sigma_t = uncert*tau/2\n",
    "sigma_d = uncert*d_p/2\n",
    "sigma_e = uncert*eps/2\n",
    "sigma_l = uncert*l/2\n",
    "\n",
    "'''\n",
    "# Generate random data with uniform error\n",
    "tau_rand = np.random.uniform(tau-sigma_t,tau+sigma_t,num_samples)\n",
    "d_rand = np.random.uniform(d_p-sigma_d,d_p+sigma_d,num_samples)\n",
    "e_rand = np.random.uniform(eps-sigma_e,eps+sigma_e,num_samples)\n",
    "l_rand = np.random.uniform(l-sigma_l,l+sigma_l,num_samples)\n",
    "'''\n",
    "# Generate random data with Gaussian error\n",
    "tau_rand = np.random.normal(tau,sigma_t,num_samples)\n",
    "d_rand = np.random.normal(d_p,sigma_d,num_samples)\n",
    "e_rand = np.random.normal(eps,sigma_e,num_samples)\n",
    "l_rand = np.random.normal(l,sigma_l,num_samples)\n",
    "\n",
    "\n",
    "\n",
    "fx = flux(tau_rand,d_rand,e_rand,l_rand)\n",
    "\n",
    "mean_flux = np.mean(fx)\n",
    "\n",
    "# Number of bins\n",
    "bins = int(np.ceil(2*np.cbrt(num_samples)))\n",
    "\n",
    "# Plot histograms of data\n",
    "font = {'family' : 'serif',\n",
    "         'size'   : 12,\n",
    "         'serif':  'cmr10'\n",
    "         }\n",
    "\n",
    "plt.rcParams[\"figure.figsize\"] = (5,3)\n",
    "plt.rcParams.update({\n",
    "    \"text.usetex\": True,\n",
    "    \"font.family\": \"serif\",\n",
    "    \"font.serif\": \"cmr10\",\n",
    "})\n",
    "\n",
    "\n",
    "plt.hist(tau_rand,bins,density=True)\n",
    "plt.xlabel('$\\\\tau$')\n",
    "plt.ylabel('Density')\n",
    "plt.show()\n",
    "\n",
    "'''\n",
    "plt.hist(d_rand,bins,density=True)\n",
    "plt.xlabel('$d_p$ ($\\mu$m)')\n",
    "plt.ylabel('Density')\n",
    "plt.show()\n",
    "\n",
    "plt.hist(e_rand,bins,density=True)\n",
    "plt.xlabel('$\\\\varepsilon$')\n",
    "plt.ylabel('Density')\n",
    "plt.show()\n",
    "\n",
    "plt.hist(l_rand,bins,density=True)\n",
    "plt.xlabel('$\\\\ell$ ($\\mu$m)')\n",
    "plt.ylabel('Density')\n",
    "plt.show()\n",
    "'''\n",
    "\n",
    "fig, ax = plt.subplots()\n",
    "\n",
    "plt.hist(fx,bins,density=True)\n",
    "plt.plot([mean_flux,mean_flux],[0,0.00017],linestyle='--',color='r',label='$\\mu_{N}$')\n",
    "plt.xlabel('$N$ (m$^3$/(m$^2\\cdot$ day))')\n",
    "plt.ylabel('Density')\n",
    "plt.legend()\n",
    "plt.show()\n",
    "\n",
    "fig.savefig('CHEN_3100_HW_13_1.png',dpi=300,bbox_inches='tight')\n",
    "\n",
    "print(fxx)\n",
    "print(mu)"
   ]
  },
  {
   "cell_type": "code",
   "execution_count": 75,
   "id": "51f51840",
   "metadata": {},
   "outputs": [
    {
     "name": "stdout",
     "output_type": "stream",
     "text": [
      "35281.63637121547\n",
      "48.11524063056549\n",
      "33778.00701938852\n",
      "69059.64339060399\n",
      "792577.878021881\n"
     ]
    }
   ],
   "source": [
    "MW_He = 4.002\n",
    "MW_CO2 = 44.01\n",
    "\n",
    "P_He = 117000\n",
    "P_CO2 = 68000\n",
    "\n",
    "corr = P_He/((MW_CO2/MW_He)**0.5 + 4850*40*1e-8*(317.2/MW_He)**0.5/0.117)\n",
    "\n",
    "corr_2 = 0.117*P_He/(4850*40*1e-8*(317.2/MW_He)**0.5)\n",
    "\n",
    "P_pred = P_He*(MW_He/MW_CO2)**0.5\n",
    "\n",
    "err = 100*(P_CO2-P_pred)/P_CO2\n",
    "\n",
    "print(P_pred)\n",
    "print(err)\n",
    "print(corr)\n",
    "print(P_pred+corr)\n",
    "print(corr_2)\n"
   ]
  },
  {
   "cell_type": "code",
   "execution_count": null,
   "id": "00a84d35",
   "metadata": {},
   "outputs": [],
   "source": []
  }
 ],
 "metadata": {
  "kernelspec": {
   "display_name": "Python [conda env:base] *",
   "language": "python",
   "name": "conda-base-py"
  },
  "language_info": {
   "codemirror_mode": {
    "name": "ipython",
    "version": 3
   },
   "file_extension": ".py",
   "mimetype": "text/x-python",
   "name": "python",
   "nbconvert_exporter": "python",
   "pygments_lexer": "ipython3",
   "version": "3.11.5"
  }
 },
 "nbformat": 4,
 "nbformat_minor": 5
}
